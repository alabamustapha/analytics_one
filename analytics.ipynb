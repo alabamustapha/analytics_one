{
 "cells": [
  {
   "cell_type": "markdown",
   "metadata": {},
   "source": [
    "### Exploratory Data Analysis: % of individuals using the internet"
   ]
  },
  {
   "cell_type": "markdown",
   "metadata": {},
   "source": [
    "Years: 2000, 2005, 2010 ,2015, 2019 ,2020, 2021\n",
    "\n",
    "Data source: [UN](https://data.un.org/)\n",
    "\n",
    "Data URL: [Internet Usage Data](https://data.un.org/_Docs/SYB/CSV/SYB66_314_202310_Internet%20Usage.csv)\n",
    "\n",
    "Objective: Exploratory data analysis to detect anomalies, identify patterns, understand the data, and identify preliminary insights from the data using quantitative and graphical methods.\n",
    "\n",
    "1) Understand the dataset.\n",
    "2) Define analytics objectives or questions.\n",
    "3) Understand the attributes/variables, their types, relevance and significance, and their relationships.\n",
    "4) Prepare and clean the dataset in readiness for analytics.\n",
    "5) Perform exploratory data analysis\n",
    "6) Communicate insights."
   ]
  },
  {
   "cell_type": "markdown",
   "metadata": {},
   "source": [
    "### Preliminary Questions"
   ]
  },
  {
   "cell_type": "markdown",
   "metadata": {},
   "source": [
    "- How has the global percentage of individuals using the internet changed over time?\n",
    "- Which regions or countries have shown the most significant increase in internet usage?\n",
    "- Are there any noticeable patterns or trends in internet adoption rates across different geographical areas?\n",
    "- What is the average internet usage percentage for all countries?\n",
    "- How does internet usage compare between developed and developing countries?\n",
    "- Are there any countries or regions that show unusually high or low internet adoption rates compared to their neighbors or global averages?\n",
    "- What is the rate of growth in internet usage for different time periods (e.g., 2000-2005, 2005-2010, 2010-2015)?\n",
    "- Is there a correlation between a country's economic status and its internet usage percentage?\n",
    "- How does the data distribution of internet usage percentages change over the years?\n",
    "- Are there any notable outliers in terms of internet usage, and what factors might contribute to their exceptional status?"
   ]
  },
  {
   "cell_type": "markdown",
   "metadata": {},
   "source": [
    "### Python Libraries"
   ]
  },
  {
   "cell_type": "code",
   "execution_count": 61,
   "metadata": {},
   "outputs": [],
   "source": [
    "# package importation\n",
    "import pandas as pd"
   ]
  },
  {
   "cell_type": "markdown",
   "metadata": {},
   "source": [
    "### Data Loading"
   ]
  },
  {
   "cell_type": "code",
   "execution_count": 62,
   "metadata": {},
   "outputs": [
    {
     "data": {
      "text/html": [
       "<div>\n",
       "<style scoped>\n",
       "    .dataframe tbody tr th:only-of-type {\n",
       "        vertical-align: middle;\n",
       "    }\n",
       "\n",
       "    .dataframe tbody tr th {\n",
       "        vertical-align: top;\n",
       "    }\n",
       "\n",
       "    .dataframe thead th {\n",
       "        text-align: right;\n",
       "    }\n",
       "</style>\n",
       "<table border=\"1\" class=\"dataframe\">\n",
       "  <thead>\n",
       "    <tr style=\"text-align: right;\">\n",
       "      <th></th>\n",
       "      <th>idx</th>\n",
       "      <th>region_country_area</th>\n",
       "      <th>year</th>\n",
       "      <th>series</th>\n",
       "      <th>value</th>\n",
       "      <th>footnotes</th>\n",
       "      <th>source</th>\n",
       "    </tr>\n",
       "  </thead>\n",
       "  <tbody>\n",
       "    <tr>\n",
       "      <th>0</th>\n",
       "      <td>1</td>\n",
       "      <td>Total, all countries or areas</td>\n",
       "      <td>2000</td>\n",
       "      <td>Percentage of individuals using the internet</td>\n",
       "      <td>5.3</td>\n",
       "      <td>NaN</td>\n",
       "      <td>International Telecommunication Union (ITU), G...</td>\n",
       "    </tr>\n",
       "    <tr>\n",
       "      <th>1</th>\n",
       "      <td>1</td>\n",
       "      <td>Total, all countries or areas</td>\n",
       "      <td>2005</td>\n",
       "      <td>Percentage of individuals using the internet</td>\n",
       "      <td>15.6</td>\n",
       "      <td>NaN</td>\n",
       "      <td>International Telecommunication Union (ITU), G...</td>\n",
       "    </tr>\n",
       "    <tr>\n",
       "      <th>2</th>\n",
       "      <td>1</td>\n",
       "      <td>Total, all countries or areas</td>\n",
       "      <td>2010</td>\n",
       "      <td>Percentage of individuals using the internet</td>\n",
       "      <td>28.5</td>\n",
       "      <td>NaN</td>\n",
       "      <td>International Telecommunication Union (ITU), G...</td>\n",
       "    </tr>\n",
       "    <tr>\n",
       "      <th>3</th>\n",
       "      <td>1</td>\n",
       "      <td>Total, all countries or areas</td>\n",
       "      <td>2015</td>\n",
       "      <td>Percentage of individuals using the internet</td>\n",
       "      <td>40.0</td>\n",
       "      <td>NaN</td>\n",
       "      <td>International Telecommunication Union (ITU), G...</td>\n",
       "    </tr>\n",
       "    <tr>\n",
       "      <th>4</th>\n",
       "      <td>1</td>\n",
       "      <td>Total, all countries or areas</td>\n",
       "      <td>2019</td>\n",
       "      <td>Percentage of individuals using the internet</td>\n",
       "      <td>53.7</td>\n",
       "      <td>NaN</td>\n",
       "      <td>International Telecommunication Union (ITU), G...</td>\n",
       "    </tr>\n",
       "  </tbody>\n",
       "</table>\n",
       "</div>"
      ],
      "text/plain": [
       "   idx            region_country_area  year  \\\n",
       "0    1  Total, all countries or areas  2000   \n",
       "1    1  Total, all countries or areas  2005   \n",
       "2    1  Total, all countries or areas  2010   \n",
       "3    1  Total, all countries or areas  2015   \n",
       "4    1  Total, all countries or areas  2019   \n",
       "\n",
       "                                         series  value footnotes  \\\n",
       "0  Percentage of individuals using the internet    5.3       NaN   \n",
       "1  Percentage of individuals using the internet   15.6       NaN   \n",
       "2  Percentage of individuals using the internet   28.5       NaN   \n",
       "3  Percentage of individuals using the internet   40.0       NaN   \n",
       "4  Percentage of individuals using the internet   53.7       NaN   \n",
       "\n",
       "                                              source  \n",
       "0  International Telecommunication Union (ITU), G...  \n",
       "1  International Telecommunication Union (ITU), G...  \n",
       "2  International Telecommunication Union (ITU), G...  \n",
       "3  International Telecommunication Union (ITU), G...  \n",
       "4  International Telecommunication Union (ITU), G...  "
      ]
     },
     "execution_count": 62,
     "metadata": {},
     "output_type": "execute_result"
    }
   ],
   "source": [
    "# create a list of column names for the dataset\n",
    "dataset_columns = [\"idx\", \"region_country_area\", \"year\", \"series\", \"value\", \"footnotes\",\"source\"]\n",
    "\n",
    "\n",
    "# read the dataset into a pandas dataframe\n",
    "internet_usage = pd.read_csv('InternetUsage.csv', skiprows=1, encoding='ISO-8859-1')\n",
    "\n",
    "# set the column names\n",
    "internet_usage.columns = dataset_columns\n",
    "\n",
    "# display the first 5 rows of the dataset\n",
    "internet_usage.head()"
   ]
  },
  {
   "cell_type": "markdown",
   "metadata": {},
   "source": [
    "### Check datatypes and identify useful columns \n",
    "\n",
    "<pre>\n",
    "Attributes              Description\n",
    "idx                     int64: used for identifying the country region or area\n",
    "region_country_area     text: used to identify a country, region, area or group of countries\n",
    "year                    int64: the year the value represent\n",
    "series                  text: descriptive column\n",
    "value                   float: percentage of individuals using internet\n",
    "footnotes               text: descriptive column\n",
    "source                  text: descriptive column\n",
    "</pre>\n",
    "\n",
    "\n",
    "<pre>\n",
    "Total records: 1528\n",
    "significant fields: idx, region_country_area, year, value\n",
    "</pre>"
   ]
  },
  {
   "cell_type": "code",
   "execution_count": 63,
   "metadata": {},
   "outputs": [
    {
     "name": "stdout",
     "output_type": "stream",
     "text": [
      "<class 'pandas.core.frame.DataFrame'>\n",
      "RangeIndex: 1528 entries, 0 to 1527\n",
      "Data columns (total 7 columns):\n",
      " #   Column               Non-Null Count  Dtype  \n",
      "---  ------               --------------  -----  \n",
      " 0   idx                  1528 non-null   int64  \n",
      " 1   region_country_area  1528 non-null   object \n",
      " 2   year                 1528 non-null   int64  \n",
      " 3   series               1528 non-null   object \n",
      " 4   value                1528 non-null   float64\n",
      " 5   footnotes            966 non-null    object \n",
      " 6   source               1528 non-null   object \n",
      "dtypes: float64(1), int64(2), object(4)\n",
      "memory usage: 83.7+ KB\n"
     ]
    }
   ],
   "source": [
    "internet_usage.info()"
   ]
  },
  {
   "cell_type": "markdown",
   "metadata": {},
   "source": [
    "### Drop columns not useful for analysis"
   ]
  },
  {
   "cell_type": "code",
   "execution_count": 64,
   "metadata": {},
   "outputs": [
    {
     "data": {
      "text/html": [
       "<div>\n",
       "<style scoped>\n",
       "    .dataframe tbody tr th:only-of-type {\n",
       "        vertical-align: middle;\n",
       "    }\n",
       "\n",
       "    .dataframe tbody tr th {\n",
       "        vertical-align: top;\n",
       "    }\n",
       "\n",
       "    .dataframe thead th {\n",
       "        text-align: right;\n",
       "    }\n",
       "</style>\n",
       "<table border=\"1\" class=\"dataframe\">\n",
       "  <thead>\n",
       "    <tr style=\"text-align: right;\">\n",
       "      <th></th>\n",
       "      <th>idx</th>\n",
       "      <th>region_country_area</th>\n",
       "      <th>year</th>\n",
       "      <th>value</th>\n",
       "    </tr>\n",
       "  </thead>\n",
       "  <tbody>\n",
       "    <tr>\n",
       "      <th>0</th>\n",
       "      <td>1</td>\n",
       "      <td>Total, all countries or areas</td>\n",
       "      <td>2000</td>\n",
       "      <td>5.3</td>\n",
       "    </tr>\n",
       "    <tr>\n",
       "      <th>1</th>\n",
       "      <td>1</td>\n",
       "      <td>Total, all countries or areas</td>\n",
       "      <td>2005</td>\n",
       "      <td>15.6</td>\n",
       "    </tr>\n",
       "    <tr>\n",
       "      <th>2</th>\n",
       "      <td>1</td>\n",
       "      <td>Total, all countries or areas</td>\n",
       "      <td>2010</td>\n",
       "      <td>28.5</td>\n",
       "    </tr>\n",
       "    <tr>\n",
       "      <th>3</th>\n",
       "      <td>1</td>\n",
       "      <td>Total, all countries or areas</td>\n",
       "      <td>2015</td>\n",
       "      <td>40.0</td>\n",
       "    </tr>\n",
       "    <tr>\n",
       "      <th>4</th>\n",
       "      <td>1</td>\n",
       "      <td>Total, all countries or areas</td>\n",
       "      <td>2019</td>\n",
       "      <td>53.7</td>\n",
       "    </tr>\n",
       "  </tbody>\n",
       "</table>\n",
       "</div>"
      ],
      "text/plain": [
       "   idx            region_country_area  year  value\n",
       "0    1  Total, all countries or areas  2000    5.3\n",
       "1    1  Total, all countries or areas  2005   15.6\n",
       "2    1  Total, all countries or areas  2010   28.5\n",
       "3    1  Total, all countries or areas  2015   40.0\n",
       "4    1  Total, all countries or areas  2019   53.7"
      ]
     },
     "execution_count": 64,
     "metadata": {},
     "output_type": "execute_result"
    }
   ],
   "source": [
    "internet_usage.drop(columns=['series', 'footnotes', 'source'], inplace=True)\n",
    "\n",
    "internet_usage.head()"
   ]
  },
  {
   "cell_type": "markdown",
   "metadata": {},
   "source": [
    "### Drop LDC§ records from the dataset, not needed"
   ]
  },
  {
   "cell_type": "code",
   "execution_count": 65,
   "metadata": {},
   "outputs": [
    {
     "name": "stdout",
     "output_type": "stream",
     "text": [
      "      idx region_country_area  year  value\n",
      "1521  199                LDC§  2000    0.4\n",
      "1522  199                LDC§  2005    0.7\n",
      "1523  199                LDC§  2010    3.3\n",
      "1524  199                LDC§  2015   10.7\n",
      "1525  199                LDC§  2019   23.5\n",
      "1526  199                LDC§  2020   27.6\n",
      "1527  199                LDC§  2021   31.2\n",
      "LDC records have been dropped\n"
     ]
    }
   ],
   "source": [
    "# drop LDC§ records from the dataset, idx = 199\n",
    "\n",
    "print(internet_usage[internet_usage['idx'] == 199])\n",
    "\n",
    "ldc_index = internet_usage[internet_usage['idx'] == 199].index\n",
    "internet_usage.drop(ldc_index, inplace=True)\n",
    "\n",
    "# check if the LDC records have been dropped\n",
    "if not internet_usage[internet_usage['idx'] == 199].empty:\n",
    "    print(\"LDC records still exist\")\n",
    "else:\n",
    "    print(\"LDC records have been dropped\")\n"
   ]
  },
  {
   "cell_type": "markdown",
   "metadata": {},
   "source": [
    "### Check for missing values "
   ]
  },
  {
   "cell_type": "code",
   "execution_count": 66,
   "metadata": {},
   "outputs": [
    {
     "data": {
      "text/plain": [
       "idx                    0\n",
       "region_country_area    0\n",
       "year                   0\n",
       "value                  0\n",
       "dtype: int64"
      ]
     },
     "execution_count": 66,
     "metadata": {},
     "output_type": "execute_result"
    }
   ],
   "source": [
    "internet_usage.isnull().sum()"
   ]
  },
  {
   "cell_type": "markdown",
   "metadata": {},
   "source": [
    "### Extract country related data and region data"
   ]
  },
  {
   "cell_type": "code",
   "execution_count": 67,
   "metadata": {},
   "outputs": [
    {
     "name": "stdout",
     "output_type": "stream",
     "text": [
      "Region dataframe shape:  (139, 4)\n",
      "Country dataframe shape:  (1382, 4)\n"
     ]
    }
   ],
   "source": [
    "region_values = [\n",
    "    \"Total, all countries or areas\", \"Northern Africa\", \"Sub-Saharan Africa\", \n",
    "    \"Eastern Africa\", \"Middle Africa\", \"Southern Africa\", \"Western Africa\", \n",
    "    \"Northern America\", \"Latin America & the Caribbean\", \"Caribbean\", \n",
    "    \"Central Asia\", \"Eastern Asia\", \"South-central Asia\", \n",
    "    \"South-eastern Asia\", \"Southern Asia\", \"Western Asia\", \n",
    "    \"Europe\", \"Oceania\", \"Australia and New Zealand\", \"Micronesia\"\n",
    "]\n",
    "\n",
    "region_internet_usage = internet_usage[internet_usage['region_country_area'].isin(region_values)]\n",
    "\n",
    "country_internet_usage = internet_usage[~internet_usage['region_country_area'].isin(region_values)]\n",
    "\n",
    "# print shapes of the region and country dataframes\n",
    "\n",
    "print(\"Region dataframe shape: \", region_internet_usage.shape)\n",
    "print(\"Country dataframe shape: \", country_internet_usage.shape)\n",
    "\n"
   ]
  },
  {
   "cell_type": "code",
   "execution_count": null,
   "metadata": {},
   "outputs": [],
   "source": []
  },
  {
   "cell_type": "code",
   "execution_count": null,
   "metadata": {},
   "outputs": [],
   "source": []
  },
  {
   "cell_type": "code",
   "execution_count": 68,
   "metadata": {},
   "outputs": [
    {
     "data": {
      "text/html": [
       "<div>\n",
       "<style scoped>\n",
       "    .dataframe tbody tr th:only-of-type {\n",
       "        vertical-align: middle;\n",
       "    }\n",
       "\n",
       "    .dataframe tbody tr th {\n",
       "        vertical-align: top;\n",
       "    }\n",
       "\n",
       "    .dataframe thead th {\n",
       "        text-align: right;\n",
       "    }\n",
       "</style>\n",
       "<table border=\"1\" class=\"dataframe\">\n",
       "  <thead>\n",
       "    <tr style=\"text-align: right;\">\n",
       "      <th></th>\n",
       "      <th>idx</th>\n",
       "      <th>year</th>\n",
       "      <th>value</th>\n",
       "    </tr>\n",
       "  </thead>\n",
       "  <tbody>\n",
       "    <tr>\n",
       "      <th>count</th>\n",
       "      <td>1521.000000</td>\n",
       "      <td>1521.000000</td>\n",
       "      <td>1521.000000</td>\n",
       "    </tr>\n",
       "    <tr>\n",
       "      <th>mean</th>\n",
       "      <td>391.798817</td>\n",
       "      <td>2012.477975</td>\n",
       "      <td>42.882643</td>\n",
       "    </tr>\n",
       "    <tr>\n",
       "      <th>std</th>\n",
       "      <td>262.001806</td>\n",
       "      <td>7.527210</td>\n",
       "      <td>32.444772</td>\n",
       "    </tr>\n",
       "    <tr>\n",
       "      <th>min</th>\n",
       "      <td>1.000000</td>\n",
       "      <td>2000.000000</td>\n",
       "      <td>0.000000</td>\n",
       "    </tr>\n",
       "    <tr>\n",
       "      <th>25%</th>\n",
       "      <td>156.000000</td>\n",
       "      <td>2005.000000</td>\n",
       "      <td>10.100000</td>\n",
       "    </tr>\n",
       "    <tr>\n",
       "      <th>50%</th>\n",
       "      <td>384.000000</td>\n",
       "      <td>2015.000000</td>\n",
       "      <td>40.000000</td>\n",
       "    </tr>\n",
       "    <tr>\n",
       "      <th>75%</th>\n",
       "      <td>620.000000</td>\n",
       "      <td>2020.000000</td>\n",
       "      <td>73.400000</td>\n",
       "    </tr>\n",
       "    <tr>\n",
       "      <th>max</th>\n",
       "      <td>894.000000</td>\n",
       "      <td>2021.000000</td>\n",
       "      <td>100.000000</td>\n",
       "    </tr>\n",
       "  </tbody>\n",
       "</table>\n",
       "</div>"
      ],
      "text/plain": [
       "               idx         year        value\n",
       "count  1521.000000  1521.000000  1521.000000\n",
       "mean    391.798817  2012.477975    42.882643\n",
       "std     262.001806     7.527210    32.444772\n",
       "min       1.000000  2000.000000     0.000000\n",
       "25%     156.000000  2005.000000    10.100000\n",
       "50%     384.000000  2015.000000    40.000000\n",
       "75%     620.000000  2020.000000    73.400000\n",
       "max     894.000000  2021.000000   100.000000"
      ]
     },
     "execution_count": 68,
     "metadata": {},
     "output_type": "execute_result"
    }
   ],
   "source": [
    "internet_usage.describe()"
   ]
  },
  {
   "cell_type": "code",
   "execution_count": null,
   "metadata": {},
   "outputs": [],
   "source": []
  }
 ],
 "metadata": {
  "kernelspec": {
   "display_name": "base",
   "language": "python",
   "name": "python3"
  },
  "language_info": {
   "codemirror_mode": {
    "name": "ipython",
    "version": 3
   },
   "file_extension": ".py",
   "mimetype": "text/x-python",
   "name": "python",
   "nbconvert_exporter": "python",
   "pygments_lexer": "ipython3",
   "version": "3.12.4"
  }
 },
 "nbformat": 4,
 "nbformat_minor": 2
}
